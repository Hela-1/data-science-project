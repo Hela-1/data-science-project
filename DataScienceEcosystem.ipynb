{
  "metadata": {
    "kernelspec": {
      "name": "python",
      "display_name": "Python (Pyodide)",
      "language": "python"
    },
    "language_info": {
      "codemirror_mode": {
        "name": "python",
        "version": 3
      },
      "file_extension": ".py",
      "mimetype": "text/x-python",
      "name": "python",
      "nbconvert_exporter": "python",
      "pygments_lexer": "ipython3",
      "version": "3.8"
    }
  },
  "nbformat_minor": 5,
  "nbformat": 4,
  "cells": [
    {
      "id": "e6560490-27d6-4a1c-a8cf-0fc11721c131",
      "cell_type": "markdown",
      "source": "# Data Science Tools and Ecosystem",
      "metadata": {}
    },
    {
      "id": "6e880cea-2f1f-472a-8bbc-58c8246bdb2a",
      "cell_type": "markdown",
      "source": "In this notebook, Data Science Tools and Ecosystem are summarized.",
      "metadata": {}
    },
    {
      "id": "2ce46d62-f89d-4034-a01f-bf3062fd35c7",
      "cell_type": "markdown",
      "source": "<b>Objectives:</b>\n* List of popular languages for Data Science\n* List of popular libraries for Data Science\n* List of Data Science Tools\n* A few examples of arithmetic expressions",
      "metadata": {}
    },
    {
      "id": "88689ec6-bada-4025-a3d5-3665839dd556",
      "cell_type": "markdown",
      "source": "Some of the popular languages that Data Scientists use are:\n1. Julia\n2. Python\n3. R\n4. SQL",
      "metadata": {}
    },
    {
      "id": "0dcb7177-f8af-4d25-bc0b-894f7d89978f",
      "cell_type": "markdown",
      "source": "Some of the commonly used libraries used by Data Scientists include:\n1. Pandas\n2. NumPy\n3. Matplotlib\n4. Seaborn\n5. SciPy",
      "metadata": {}
    },
    {
      "id": "92f48ea6-469a-437b-ab8b-5f47ca1282a5",
      "cell_type": "markdown",
      "source": "| Data Science Tools       |\n|--------------------------|\n| Jupyter Notebook         |\n| RStudio                  |\n| Apache Spark         |",
      "metadata": {}
    },
    {
      "id": "fc296c4f-da02-44e0-a3b3-01d031927482",
      "cell_type": "markdown",
      "source": "### Below are a few examples of evaluating arithmetic expressions in Python",
      "metadata": {}
    },
    {
      "id": "d96fb4ea-2e9b-47d9-aa97-00c4c0a36504",
      "cell_type": "code",
      "source": "# This a simple arithmetic expression to mutiply then add integers\n(3*4)+5",
      "metadata": {
        "trusted": true
      },
      "outputs": [],
      "execution_count": null
    },
    {
      "id": "eed7ab21-1afb-40bc-82ea-9b32480782be",
      "cell_type": "code",
      "source": "# This will convert 200 minutes to hours by diving by 60\n200/60",
      "metadata": {
        "trusted": true
      },
      "outputs": [],
      "execution_count": null
    },
    {
      "id": "8b245ab7-0e12-4f4c-bbb9-86b46501009d",
      "cell_type": "markdown",
      "source": "## Author\nLena",
      "metadata": {}
    }
  ]
}